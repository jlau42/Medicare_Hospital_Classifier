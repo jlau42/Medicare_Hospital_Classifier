{
 "cells": [
  {
   "cell_type": "markdown",
   "metadata": {},
   "source": [
    "# Predicting Survey Star Ratings "
   ]
  },
  {
   "cell_type": "code",
   "execution_count": 2,
   "metadata": {},
   "outputs": [],
   "source": [
    "import pandas as pd\n",
    "import numpy as np \n",
    "import matplotlib.pyplot as plt\n",
    "import pymysql\n",
    "import seaborn as sns\n",
    "import matplotlib.style as style\n",
    "style.use('fivethirtyeight')\n",
    "from pandas.io import sql\n",
    "from sklearn.linear_model import LogisticRegression\n",
    "from sklearn import metrics\n",
    "from sklearn.model_selection import train_test_split\n",
    "from sklearn.preprocessing import StandardScaler"
   ]
  },
  {
   "cell_type": "code",
   "execution_count": 3,
   "metadata": {},
   "outputs": [],
   "source": [
    "host=\"cms.ctvgwsug2thu.us-west-1.rds.amazonaws.com\"\n",
    "port=3306\n",
    "dbname=\"cms\"\n",
    "user=\"\"\n",
    "password=\"\"\n",
    "\n",
    "conn = pymysql.connect(host, user=user,port=port,\n",
    "                           passwd=password, db=dbname)"
   ]
  },
  {
   "cell_type": "code",
   "execution_count": 12,
   "metadata": {},
   "outputs": [],
   "source": [
    "survey = pd.read_sql('''\n",
    "select h.`Provider ID`,h.`year`, h.`HCAHPS Measure ID`, \n",
    "case when h.`Patient Survey Star Rating` = \"Not Applicable\" and h.`HCAHPS Answer Percent` = \"Not Applicable\" then h.`HCAHPS Linear Mean Value`\n",
    "when h.`HCAHPS Answer Percent` = \"Not Applicable\" and h.`HCAHPS Linear Mean Value` = \"Not Applicable\" then h.`Patient Survey Star Rating`\n",
    "when h.`Patient Survey Star Rating` = \"Not Applicable\" and h.`HCAHPS Linear Mean Value` = \"Not Applicable\" then h.`HCAHPS Answer Percent`\n",
    "else Null end as Score \n",
    "from hospital_survey h\n",
    "join (\n",
    "select `Provider ID`, year from hospital_survey\n",
    "where `HCAHPS Question` = \"Summary star rating\" \n",
    "and `Patient Survey Star Rating` <> \"Not Available\") a on h.`Provider ID` = a.`Provider ID` and h.year = a.`year`\n",
    "''', con = conn)"
   ]
  },
  {
   "cell_type": "code",
   "execution_count": 13,
   "metadata": {},
   "outputs": [
    {
     "data": {
      "text/html": [
       "<div>\n",
       "<style scoped>\n",
       "    .dataframe tbody tr th:only-of-type {\n",
       "        vertical-align: middle;\n",
       "    }\n",
       "\n",
       "    .dataframe tbody tr th {\n",
       "        vertical-align: top;\n",
       "    }\n",
       "\n",
       "    .dataframe thead th {\n",
       "        text-align: right;\n",
       "    }\n",
       "</style>\n",
       "<table border=\"1\" class=\"dataframe\">\n",
       "  <thead>\n",
       "    <tr style=\"text-align: right;\">\n",
       "      <th></th>\n",
       "      <th>Provider ID</th>\n",
       "      <th>year</th>\n",
       "      <th>HCAHPS Measure ID</th>\n",
       "      <th>Score</th>\n",
       "    </tr>\n",
       "  </thead>\n",
       "  <tbody>\n",
       "    <tr>\n",
       "      <th>0</th>\n",
       "      <td>010001</td>\n",
       "      <td>2018</td>\n",
       "      <td>H_STAR_RATING</td>\n",
       "      <td>2</td>\n",
       "    </tr>\n",
       "    <tr>\n",
       "      <th>1</th>\n",
       "      <td>010001</td>\n",
       "      <td>2018</td>\n",
       "      <td>H_CLEAN_HSP_A_P</td>\n",
       "      <td>66</td>\n",
       "    </tr>\n",
       "    <tr>\n",
       "      <th>2</th>\n",
       "      <td>010001</td>\n",
       "      <td>2018</td>\n",
       "      <td>H_CLEAN_HSP_SN_P</td>\n",
       "      <td>12</td>\n",
       "    </tr>\n",
       "    <tr>\n",
       "      <th>3</th>\n",
       "      <td>010001</td>\n",
       "      <td>2018</td>\n",
       "      <td>H_CLEAN_HSP_U_P</td>\n",
       "      <td>22</td>\n",
       "    </tr>\n",
       "    <tr>\n",
       "      <th>4</th>\n",
       "      <td>010001</td>\n",
       "      <td>2018</td>\n",
       "      <td>H_CLEAN_LINEAR_SCORE</td>\n",
       "      <td>84</td>\n",
       "    </tr>\n",
       "  </tbody>\n",
       "</table>\n",
       "</div>"
      ],
      "text/plain": [
       "  Provider ID  year     HCAHPS Measure ID Score\n",
       "0      010001  2018         H_STAR_RATING     2\n",
       "1      010001  2018       H_CLEAN_HSP_A_P    66\n",
       "2      010001  2018      H_CLEAN_HSP_SN_P    12\n",
       "3      010001  2018       H_CLEAN_HSP_U_P    22\n",
       "4      010001  2018  H_CLEAN_LINEAR_SCORE    84"
      ]
     },
     "execution_count": 13,
     "metadata": {},
     "output_type": "execute_result"
    }
   ],
   "source": [
    "survey.head()"
   ]
  },
  {
   "cell_type": "code",
   "execution_count": 14,
   "metadata": {},
   "outputs": [
    {
     "name": "stdout",
     "output_type": "stream",
     "text": [
      "<class 'pandas.core.frame.DataFrame'>\n",
      "RangeIndex: 752030 entries, 0 to 752029\n",
      "Data columns (total 4 columns):\n",
      "Provider ID          752030 non-null object\n",
      "year                 752030 non-null int64\n",
      "HCAHPS Measure ID    752030 non-null object\n",
      "Score                752030 non-null object\n",
      "dtypes: int64(1), object(3)\n",
      "memory usage: 23.0+ MB\n"
     ]
    }
   ],
   "source": [
    "survey.info()"
   ]
  },
  {
   "cell_type": "code",
   "execution_count": 15,
   "metadata": {},
   "outputs": [],
   "source": [
    "survey['Score'] = survey['Score'].astype(float)"
   ]
  },
  {
   "cell_type": "code",
   "execution_count": 16,
   "metadata": {},
   "outputs": [],
   "source": [
    "survey = pd.pivot_table(survey, values = 'Score', index = ['Provider ID', 'year'], columns = 'HCAHPS Measure ID').reset_index()"
   ]
  },
  {
   "cell_type": "code",
   "execution_count": 17,
   "metadata": {},
   "outputs": [
    {
     "data": {
      "text/html": [
       "<div>\n",
       "<style scoped>\n",
       "    .dataframe tbody tr th:only-of-type {\n",
       "        vertical-align: middle;\n",
       "    }\n",
       "\n",
       "    .dataframe tbody tr th {\n",
       "        vertical-align: top;\n",
       "    }\n",
       "\n",
       "    .dataframe thead th {\n",
       "        text-align: right;\n",
       "    }\n",
       "</style>\n",
       "<table border=\"1\" class=\"dataframe\">\n",
       "  <thead>\n",
       "    <tr style=\"text-align: right;\">\n",
       "      <th>HCAHPS Measure ID</th>\n",
       "      <th>Provider ID</th>\n",
       "      <th>year</th>\n",
       "      <th>H_CLEAN_HSP_A_P</th>\n",
       "      <th>H_CLEAN_HSP_SN_P</th>\n",
       "      <th>H_CLEAN_HSP_U_P</th>\n",
       "      <th>H_CLEAN_LINEAR_SCORE</th>\n",
       "      <th>H_CLEAN_STAR_RATING</th>\n",
       "      <th>H_COMP_1_A_P</th>\n",
       "      <th>H_COMP_1_LINEAR_SCORE</th>\n",
       "      <th>H_COMP_1_SN_P</th>\n",
       "      <th>...</th>\n",
       "      <th>H_QUIET_HSP_SN_P</th>\n",
       "      <th>H_QUIET_HSP_U_P</th>\n",
       "      <th>H_QUIET_LINEAR_SCORE</th>\n",
       "      <th>H_QUIET_STAR_RATING</th>\n",
       "      <th>H_RECMND_DN</th>\n",
       "      <th>H_RECMND_DY</th>\n",
       "      <th>H_RECMND_LINEAR_SCORE</th>\n",
       "      <th>H_RECMND_PY</th>\n",
       "      <th>H_RECMND_STAR_RATING</th>\n",
       "      <th>H_STAR_RATING</th>\n",
       "    </tr>\n",
       "  </thead>\n",
       "  <tbody>\n",
       "    <tr>\n",
       "      <th>0</th>\n",
       "      <td>010001</td>\n",
       "      <td>2015</td>\n",
       "      <td>66.0</td>\n",
       "      <td>12.0</td>\n",
       "      <td>22.0</td>\n",
       "      <td>84.0</td>\n",
       "      <td>2.0</td>\n",
       "      <td>75.0</td>\n",
       "      <td>89.0</td>\n",
       "      <td>7.0</td>\n",
       "      <td>...</td>\n",
       "      <td>6.0</td>\n",
       "      <td>28.0</td>\n",
       "      <td>87.0</td>\n",
       "      <td>4.0</td>\n",
       "      <td>4.0</td>\n",
       "      <td>76.0</td>\n",
       "      <td>90.0</td>\n",
       "      <td>20.0</td>\n",
       "      <td>4.0</td>\n",
       "      <td>3.0</td>\n",
       "    </tr>\n",
       "    <tr>\n",
       "      <th>1</th>\n",
       "      <td>010001</td>\n",
       "      <td>2016</td>\n",
       "      <td>65.0</td>\n",
       "      <td>12.0</td>\n",
       "      <td>23.0</td>\n",
       "      <td>84.0</td>\n",
       "      <td>2.0</td>\n",
       "      <td>76.0</td>\n",
       "      <td>90.0</td>\n",
       "      <td>6.0</td>\n",
       "      <td>...</td>\n",
       "      <td>6.0</td>\n",
       "      <td>25.0</td>\n",
       "      <td>88.0</td>\n",
       "      <td>4.0</td>\n",
       "      <td>5.0</td>\n",
       "      <td>74.0</td>\n",
       "      <td>89.0</td>\n",
       "      <td>21.0</td>\n",
       "      <td>3.0</td>\n",
       "      <td>3.0</td>\n",
       "    </tr>\n",
       "    <tr>\n",
       "      <th>2</th>\n",
       "      <td>010001</td>\n",
       "      <td>2017</td>\n",
       "      <td>67.0</td>\n",
       "      <td>12.0</td>\n",
       "      <td>21.0</td>\n",
       "      <td>84.0</td>\n",
       "      <td>2.0</td>\n",
       "      <td>76.0</td>\n",
       "      <td>89.0</td>\n",
       "      <td>7.0</td>\n",
       "      <td>...</td>\n",
       "      <td>5.0</td>\n",
       "      <td>27.0</td>\n",
       "      <td>87.0</td>\n",
       "      <td>4.0</td>\n",
       "      <td>6.0</td>\n",
       "      <td>72.0</td>\n",
       "      <td>88.0</td>\n",
       "      <td>22.0</td>\n",
       "      <td>3.0</td>\n",
       "      <td>3.0</td>\n",
       "    </tr>\n",
       "    <tr>\n",
       "      <th>3</th>\n",
       "      <td>010001</td>\n",
       "      <td>2018</td>\n",
       "      <td>66.0</td>\n",
       "      <td>12.0</td>\n",
       "      <td>22.0</td>\n",
       "      <td>84.0</td>\n",
       "      <td>2.0</td>\n",
       "      <td>74.0</td>\n",
       "      <td>88.0</td>\n",
       "      <td>8.0</td>\n",
       "      <td>...</td>\n",
       "      <td>7.0</td>\n",
       "      <td>30.0</td>\n",
       "      <td>85.0</td>\n",
       "      <td>3.0</td>\n",
       "      <td>6.0</td>\n",
       "      <td>69.0</td>\n",
       "      <td>87.0</td>\n",
       "      <td>25.0</td>\n",
       "      <td>3.0</td>\n",
       "      <td>2.0</td>\n",
       "    </tr>\n",
       "    <tr>\n",
       "      <th>4</th>\n",
       "      <td>010005</td>\n",
       "      <td>2015</td>\n",
       "      <td>71.0</td>\n",
       "      <td>9.0</td>\n",
       "      <td>20.0</td>\n",
       "      <td>87.0</td>\n",
       "      <td>3.0</td>\n",
       "      <td>82.0</td>\n",
       "      <td>93.0</td>\n",
       "      <td>3.0</td>\n",
       "      <td>...</td>\n",
       "      <td>7.0</td>\n",
       "      <td>22.0</td>\n",
       "      <td>88.0</td>\n",
       "      <td>4.0</td>\n",
       "      <td>3.0</td>\n",
       "      <td>76.0</td>\n",
       "      <td>91.0</td>\n",
       "      <td>21.0</td>\n",
       "      <td>4.0</td>\n",
       "      <td>4.0</td>\n",
       "    </tr>\n",
       "  </tbody>\n",
       "</table>\n",
       "<p>5 rows × 57 columns</p>\n",
       "</div>"
      ],
      "text/plain": [
       "HCAHPS Measure ID Provider ID  year  H_CLEAN_HSP_A_P  H_CLEAN_HSP_SN_P  \\\n",
       "0                      010001  2015             66.0              12.0   \n",
       "1                      010001  2016             65.0              12.0   \n",
       "2                      010001  2017             67.0              12.0   \n",
       "3                      010001  2018             66.0              12.0   \n",
       "4                      010005  2015             71.0               9.0   \n",
       "\n",
       "HCAHPS Measure ID  H_CLEAN_HSP_U_P  H_CLEAN_LINEAR_SCORE  H_CLEAN_STAR_RATING  \\\n",
       "0                             22.0                  84.0                  2.0   \n",
       "1                             23.0                  84.0                  2.0   \n",
       "2                             21.0                  84.0                  2.0   \n",
       "3                             22.0                  84.0                  2.0   \n",
       "4                             20.0                  87.0                  3.0   \n",
       "\n",
       "HCAHPS Measure ID  H_COMP_1_A_P  H_COMP_1_LINEAR_SCORE  H_COMP_1_SN_P  \\\n",
       "0                          75.0                   89.0            7.0   \n",
       "1                          76.0                   90.0            6.0   \n",
       "2                          76.0                   89.0            7.0   \n",
       "3                          74.0                   88.0            8.0   \n",
       "4                          82.0                   93.0            3.0   \n",
       "\n",
       "HCAHPS Measure ID      ...        H_QUIET_HSP_SN_P  H_QUIET_HSP_U_P  \\\n",
       "0                      ...                     6.0             28.0   \n",
       "1                      ...                     6.0             25.0   \n",
       "2                      ...                     5.0             27.0   \n",
       "3                      ...                     7.0             30.0   \n",
       "4                      ...                     7.0             22.0   \n",
       "\n",
       "HCAHPS Measure ID  H_QUIET_LINEAR_SCORE  H_QUIET_STAR_RATING  H_RECMND_DN  \\\n",
       "0                                  87.0                  4.0          4.0   \n",
       "1                                  88.0                  4.0          5.0   \n",
       "2                                  87.0                  4.0          6.0   \n",
       "3                                  85.0                  3.0          6.0   \n",
       "4                                  88.0                  4.0          3.0   \n",
       "\n",
       "HCAHPS Measure ID  H_RECMND_DY  H_RECMND_LINEAR_SCORE  H_RECMND_PY  \\\n",
       "0                         76.0                   90.0         20.0   \n",
       "1                         74.0                   89.0         21.0   \n",
       "2                         72.0                   88.0         22.0   \n",
       "3                         69.0                   87.0         25.0   \n",
       "4                         76.0                   91.0         21.0   \n",
       "\n",
       "HCAHPS Measure ID  H_RECMND_STAR_RATING  H_STAR_RATING  \n",
       "0                                   4.0            3.0  \n",
       "1                                   3.0            3.0  \n",
       "2                                   3.0            3.0  \n",
       "3                                   3.0            2.0  \n",
       "4                                   4.0            4.0  \n",
       "\n",
       "[5 rows x 57 columns]"
      ]
     },
     "execution_count": 17,
     "metadata": {},
     "output_type": "execute_result"
    }
   ],
   "source": [
    "survey.head()"
   ]
  },
  {
   "cell_type": "code",
   "execution_count": 18,
   "metadata": {},
   "outputs": [
    {
     "data": {
      "text/plain": [
       "Index(['Provider ID', 'year', 'H_CLEAN_HSP_A_P', 'H_CLEAN_HSP_SN_P',\n",
       "       'H_CLEAN_HSP_U_P', 'H_CLEAN_LINEAR_SCORE', 'H_CLEAN_STAR_RATING',\n",
       "       'H_COMP_1_A_P', 'H_COMP_1_LINEAR_SCORE', 'H_COMP_1_SN_P',\n",
       "       'H_COMP_1_STAR_RATING', 'H_COMP_1_U_P', 'H_COMP_2_A_P',\n",
       "       'H_COMP_2_LINEAR_SCORE', 'H_COMP_2_SN_P', 'H_COMP_2_STAR_RATING',\n",
       "       'H_COMP_2_U_P', 'H_COMP_3_A_P', 'H_COMP_3_LINEAR_SCORE',\n",
       "       'H_COMP_3_SN_P', 'H_COMP_3_STAR_RATING', 'H_COMP_3_U_P', 'H_COMP_4_A_P',\n",
       "       'H_COMP_4_LINEAR_SCORE', 'H_COMP_4_SN_P', 'H_COMP_4_STAR_RATING',\n",
       "       'H_COMP_4_U_P', 'H_COMP_5_A_P', 'H_COMP_5_LINEAR_SCORE',\n",
       "       'H_COMP_5_SN_P', 'H_COMP_5_STAR_RATING', 'H_COMP_5_U_P',\n",
       "       'H_COMP_6_LINEAR_SCORE', 'H_COMP_6_N_P', 'H_COMP_6_STAR_RATING',\n",
       "       'H_COMP_6_Y_P', 'H_COMP_7_A', 'H_COMP_7_D_SD', 'H_COMP_7_LINEAR_SCORE',\n",
       "       'H_COMP_7_SA', 'H_COMP_7_STAR_RATING', 'H_HSP_RATING_0_6',\n",
       "       'H_HSP_RATING_7_8', 'H_HSP_RATING_9_10', 'H_HSP_RATING_LINEAR_SCORE',\n",
       "       'H_HSP_RATING_STAR_RATING', 'H_QUIET_HSP_A_P', 'H_QUIET_HSP_SN_P',\n",
       "       'H_QUIET_HSP_U_P', 'H_QUIET_LINEAR_SCORE', 'H_QUIET_STAR_RATING',\n",
       "       'H_RECMND_DN', 'H_RECMND_DY', 'H_RECMND_LINEAR_SCORE', 'H_RECMND_PY',\n",
       "       'H_RECMND_STAR_RATING', 'H_STAR_RATING'],\n",
       "      dtype='object', name='HCAHPS Measure ID')"
      ]
     },
     "execution_count": 18,
     "metadata": {},
     "output_type": "execute_result"
    }
   ],
   "source": [
    "survey.columns"
   ]
  },
  {
   "cell_type": "code",
   "execution_count": 26,
   "metadata": {},
   "outputs": [
    {
     "name": "stdout",
     "output_type": "stream",
     "text": [
      "<class 'pandas.core.frame.DataFrame'>\n",
      "RangeIndex: 13988 entries, 0 to 13987\n",
      "Data columns (total 57 columns):\n",
      "Provider ID                  13988 non-null object\n",
      "year                         13988 non-null int64\n",
      "H_CLEAN_HSP_A_P              13988 non-null float64\n",
      "H_CLEAN_HSP_SN_P             13988 non-null float64\n",
      "H_CLEAN_HSP_U_P              13988 non-null float64\n",
      "H_CLEAN_LINEAR_SCORE         13988 non-null float64\n",
      "H_CLEAN_STAR_RATING          13988 non-null float64\n",
      "H_COMP_1_A_P                 13988 non-null float64\n",
      "H_COMP_1_LINEAR_SCORE        13988 non-null float64\n",
      "H_COMP_1_SN_P                13988 non-null float64\n",
      "H_COMP_1_STAR_RATING         13988 non-null float64\n",
      "H_COMP_1_U_P                 13988 non-null float64\n",
      "H_COMP_2_A_P                 13988 non-null float64\n",
      "H_COMP_2_LINEAR_SCORE        13988 non-null float64\n",
      "H_COMP_2_SN_P                13988 non-null float64\n",
      "H_COMP_2_STAR_RATING         13988 non-null float64\n",
      "H_COMP_2_U_P                 13988 non-null float64\n",
      "H_COMP_3_A_P                 13988 non-null float64\n",
      "H_COMP_3_LINEAR_SCORE        13988 non-null float64\n",
      "H_COMP_3_SN_P                13988 non-null float64\n",
      "H_COMP_3_STAR_RATING         13988 non-null float64\n",
      "H_COMP_3_U_P                 13988 non-null float64\n",
      "H_COMP_4_A_P                 10526 non-null float64\n",
      "H_COMP_4_LINEAR_SCORE        10526 non-null float64\n",
      "H_COMP_4_SN_P                10526 non-null float64\n",
      "H_COMP_4_STAR_RATING         10526 non-null float64\n",
      "H_COMP_4_U_P                 10526 non-null float64\n",
      "H_COMP_5_A_P                 13988 non-null float64\n",
      "H_COMP_5_LINEAR_SCORE        13988 non-null float64\n",
      "H_COMP_5_SN_P                13988 non-null float64\n",
      "H_COMP_5_STAR_RATING         13988 non-null float64\n",
      "H_COMP_5_U_P                 13988 non-null float64\n",
      "H_COMP_6_LINEAR_SCORE        13988 non-null float64\n",
      "H_COMP_6_N_P                 13988 non-null float64\n",
      "H_COMP_6_STAR_RATING         13988 non-null float64\n",
      "H_COMP_6_Y_P                 13988 non-null float64\n",
      "H_COMP_7_A                   13988 non-null float64\n",
      "H_COMP_7_D_SD                13988 non-null float64\n",
      "H_COMP_7_LINEAR_SCORE        13988 non-null float64\n",
      "H_COMP_7_SA                  13988 non-null float64\n",
      "H_COMP_7_STAR_RATING         13988 non-null float64\n",
      "H_HSP_RATING_0_6             13988 non-null float64\n",
      "H_HSP_RATING_7_8             13988 non-null float64\n",
      "H_HSP_RATING_9_10            13988 non-null float64\n",
      "H_HSP_RATING_LINEAR_SCORE    13988 non-null float64\n",
      "H_HSP_RATING_STAR_RATING     13988 non-null float64\n",
      "H_QUIET_HSP_A_P              13988 non-null float64\n",
      "H_QUIET_HSP_SN_P             13988 non-null float64\n",
      "H_QUIET_HSP_U_P              13988 non-null float64\n",
      "H_QUIET_LINEAR_SCORE         13988 non-null float64\n",
      "H_QUIET_STAR_RATING          13988 non-null float64\n",
      "H_RECMND_DN                  13988 non-null float64\n",
      "H_RECMND_DY                  13988 non-null float64\n",
      "H_RECMND_LINEAR_SCORE        13988 non-null float64\n",
      "H_RECMND_PY                  13988 non-null float64\n",
      "H_RECMND_STAR_RATING         13988 non-null float64\n",
      "H_STAR_RATING                13988 non-null float64\n",
      "dtypes: float64(55), int64(1), object(1)\n",
      "memory usage: 6.1+ MB\n"
     ]
    }
   ],
   "source": [
    "survey.info()"
   ]
  },
  {
   "cell_type": "code",
   "execution_count": 27,
   "metadata": {},
   "outputs": [],
   "source": [
    "survey.dropna(inplace = True)"
   ]
  },
  {
   "cell_type": "code",
   "execution_count": null,
   "metadata": {},
   "outputs": [],
   "source": []
  },
  {
   "cell_type": "code",
   "execution_count": 28,
   "metadata": {},
   "outputs": [],
   "source": [
    "logreg = LogisticRegression()\n",
    "ss = StandardScaler()\n",
    "X = survey[['H_CLEAN_HSP_A_P', 'H_CLEAN_HSP_SN_P',\n",
    "       'H_CLEAN_HSP_U_P', 'H_CLEAN_LINEAR_SCORE', 'H_CLEAN_STAR_RATING',\n",
    "       'H_COMP_1_A_P', 'H_COMP_1_LINEAR_SCORE', 'H_COMP_1_SN_P',\n",
    "       'H_COMP_1_STAR_RATING', 'H_COMP_1_U_P', 'H_COMP_2_A_P',\n",
    "       'H_COMP_2_LINEAR_SCORE', 'H_COMP_2_SN_P', 'H_COMP_2_STAR_RATING',\n",
    "       'H_COMP_2_U_P', 'H_COMP_3_A_P', 'H_COMP_3_LINEAR_SCORE',\n",
    "       'H_COMP_3_SN_P', 'H_COMP_3_STAR_RATING', 'H_COMP_3_U_P', 'H_COMP_4_A_P',\n",
    "       'H_COMP_4_LINEAR_SCORE', 'H_COMP_4_SN_P', 'H_COMP_4_STAR_RATING',\n",
    "       'H_COMP_4_U_P', 'H_COMP_5_A_P', 'H_COMP_5_LINEAR_SCORE',\n",
    "       'H_COMP_5_SN_P', 'H_COMP_5_STAR_RATING', 'H_COMP_5_U_P',\n",
    "       'H_COMP_6_LINEAR_SCORE', 'H_COMP_6_N_P', 'H_COMP_6_STAR_RATING',\n",
    "       'H_COMP_6_Y_P', 'H_COMP_7_A', 'H_COMP_7_D_SD', 'H_COMP_7_LINEAR_SCORE',\n",
    "       'H_COMP_7_SA', 'H_COMP_7_STAR_RATING', 'H_HSP_RATING_0_6',\n",
    "       'H_HSP_RATING_7_8', 'H_HSP_RATING_9_10', 'H_HSP_RATING_LINEAR_SCORE',\n",
    "       'H_HSP_RATING_STAR_RATING', 'H_QUIET_HSP_A_P', 'H_QUIET_HSP_SN_P',\n",
    "       'H_QUIET_HSP_U_P', 'H_QUIET_LINEAR_SCORE', 'H_QUIET_STAR_RATING',\n",
    "       'H_RECMND_DN', 'H_RECMND_DY', 'H_RECMND_LINEAR_SCORE', 'H_RECMND_PY',\n",
    "       'H_RECMND_STAR_RATING']]\n",
    "y = survey['H_STAR_RATING']\n",
    "\n",
    "X_train, X_test, y_train, y_test = train_test_split(X,y)\n",
    "\n",
    "X_train_scaled = ss.fit_transform(X_train)\n",
    "X_test_scaled = ss.transform(X_test)\n",
    "\n",
    "model = logreg.fit(X_train_scaled, y_train)\n",
    "\n",
    "\n"
   ]
  },
  {
   "cell_type": "code",
   "execution_count": 29,
   "metadata": {},
   "outputs": [
    {
     "name": "stdout",
     "output_type": "stream",
     "text": [
      "Train:  0.8769951862173803\n",
      "Test:  0.8514437689969605\n"
     ]
    }
   ],
   "source": [
    "print(\"Train: \",model.score(X_train_scaled, y_train))\n",
    "print(\"Test: \", model.score(X_test_scaled, y_test))\n",
    "      \n"
   ]
  },
  {
   "cell_type": "code",
   "execution_count": 30,
   "metadata": {},
   "outputs": [
    {
     "data": {
      "text/plain": [
       "Text(0.5, 1.0, 'Logistic Regression Coefficients')"
      ]
     },
     "execution_count": 30,
     "metadata": {},
     "output_type": "execute_result"
    },
    {
     "name": "stderr",
     "output_type": "stream",
     "text": [
      "/anaconda3/envs/dsi/lib/python3.6/site-packages/matplotlib/font_manager.py:1238: UserWarning: findfont: Font family ['sans-serif'] not found. Falling back to DejaVu Sans.\n",
      "  (prop.get_family(), self.defaultFamily[fontext]))\n"
     ]
    },
    {
     "data": {
      "image/png": "[encoded data removed]",
      "text/plain": [
       "<Figure size 432x288 with 1 Axes>"
      ]
     },
     "metadata": {
      "needs_background": "light"
     },
     "output_type": "display_data"
    }
   ],
   "source": [
    "coefs = pd.DataFrame(logreg.coef_[0], index = X.columns, columns = ['coef'])\n",
    "coefs.sort_values(by='coef', ascending = False, inplace=True)\n",
    "coefs.head(20).plot(kind = 'barh')\n",
    "plt.title('Logistic Regression Coefficients')"
   ]
  },
  {
   "cell_type": "code",
   "execution_count": 39,
   "metadata": {},
   "outputs": [],
   "source": [
    "from sklearn.metrics import roc_auc_score, roc_curve\n"
   ]
  },
  {
   "cell_type": "code",
   "execution_count": 42,
   "metadata": {},
   "outputs": [
    {
     "name": "stdout",
     "output_type": "stream",
     "text": [
      "Train:  1.0\n",
      "Test:  0.9297112462006079\n"
     ]
    }
   ],
   "source": [
    "from sklearn.ensemble import RandomForestClassifier\n",
    "from sklearn.model_selection import GridSearchCV\n",
    "\n",
    "rf = RandomForestClassifier(n_estimators= 300)\n",
    "rf.fit(X_train_scaled,y_train)\n",
    "\n",
    "print(\"Train: \", rf.score(X_train_scaled, y_train))\n",
    "print(\"Test: \", rf.score(X_test_scaled, y_test))\n"
   ]
  }
 ],
 "metadata": {
  "kernelspec": {
   "display_name": "Python [conda env:dsi]",
   "language": "python",
   "name": "conda-env-dsi-py"
  },
  "language_info": {
   "codemirror_mode": {
    "name": "ipython",
    "version": 3
   },
   "file_extension": ".py",
   "mimetype": "text/x-python",
   "name": "python",
   "nbconvert_exporter": "python",
   "pygments_lexer": "ipython3",
   "version": "3.6.6"
  }
 },
 "nbformat": 4,
 "nbformat_minor": 2
}
